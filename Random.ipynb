{
 "cells": [
  {
   "cell_type": "markdown",
   "id": "4e2db8d5",
   "metadata": {},
   "source": [
    "Diese Datei ist zwar recht unnötig, dient aber zur Show. Es dient zur Veranschaulichung für eine Random Auswahl. "
   ]
  },
  {
   "cell_type": "code",
   "execution_count": null,
   "id": "23b34caf",
   "metadata": {},
   "outputs": [],
   "source": [
    "import csv\n",
    "import numpy as np"
   ]
  },
  {
   "cell_type": "code",
   "execution_count": 11,
   "id": "4292c39a",
   "metadata": {},
   "outputs": [],
   "source": [
    "def evaluate(truepositive, truenegative, falsepositive, falsenegative, beta=1):\n",
    "    accuracy = (truenegative + truepositive)/(truenegative + truepositive + falsenegative + falsepositive)\n",
    "    precision = truepositive/(truepositive+falsepositive)\n",
    "    recall = truepositive/(truepositive+falsenegative)\n",
    "    f = (1+beta**2) * (((precision*beta**2)*recall)/(precision+recall))\n",
    "    \n",
    "\n",
    "    return f, accuracy, precision, recall"
   ]
  },
  {
   "cell_type": "code",
   "execution_count": 15,
   "id": "ede49251",
   "metadata": {},
   "outputs": [
    {
     "name": "stdout",
     "output_type": "stream",
     "text": [
      "Zeile: 49999\n",
      "(0.5056168605229148, 0.502690053801076, 0.501123241240689, 0.5101917984110425)\n",
      "Zeile: 99999\n",
      "(0.5018280351859415, 0.4999249992499925, 0.4979734672492536, 0.5057427412553712)\n",
      "Zeile: 149999\n",
      "(0.5008539397523907, 0.4992566617110781, 0.49760335925842786, 0.5041472681543319)\n",
      "Zeile: 199999\n",
      "(0.4990907455886173, 0.4986774933874669, 0.4966986197844159, 0.5015060240963856)\n",
      "Zeile: 249999\n",
      "(0.49799299649824913, 0.4982419929679719, 0.4961483867880895, 0.4998513733902131)\n",
      "Zeile: 299999\n",
      "(0.4977100255182881, 0.498068326894423, 0.4964233668926877, 0.4990033711472603)\n",
      "Zeile: 349999\n",
      "(0.49781756814736416, 0.4983757096448847, 0.4965534950071327, 0.4990880935994494)\n",
      "Zeile: 399999\n",
      "(0.49790741533860805, 0.4988262470656177, 0.496995, 0.4988231869802827)\n",
      "Zufällig auswählen ob positiv oder negativ\n"
     ]
    },
    {
     "ename": "NameError",
     "evalue": "name 'ev' is not defined",
     "output_type": "error",
     "traceback": [
      "\u001b[1;31m---------------------------------------------------------------------------\u001b[0m",
      "\u001b[1;31mNameError\u001b[0m                                 Traceback (most recent call last)",
      "\u001b[1;32m~\\AppData\\Local\\Temp\\ipykernel_12952\\2936557832.py\u001b[0m in \u001b[0;36m<module>\u001b[1;34m\u001b[0m\n\u001b[0;32m     45\u001b[0m \u001b[1;33m\u001b[0m\u001b[0m\n\u001b[0;32m     46\u001b[0m \u001b[0mprint\u001b[0m\u001b[1;33m(\u001b[0m\u001b[1;34m\"Zufällig auswählen ob positiv oder negativ\"\u001b[0m\u001b[1;33m)\u001b[0m\u001b[1;33m\u001b[0m\u001b[1;33m\u001b[0m\u001b[0m\n\u001b[1;32m---> 47\u001b[1;33m \u001b[0mprint\u001b[0m\u001b[1;33m(\u001b[0m\u001b[1;34m\"Accuracy: \"\u001b[0m \u001b[1;33m+\u001b[0m \u001b[0mstr\u001b[0m\u001b[1;33m(\u001b[0m\u001b[0mev\u001b[0m\u001b[1;33m[\u001b[0m\u001b[1;36m1\u001b[0m\u001b[1;33m]\u001b[0m\u001b[1;33m)\u001b[0m\u001b[1;33m)\u001b[0m\u001b[1;33m\u001b[0m\u001b[1;33m\u001b[0m\u001b[0m\n\u001b[0m\u001b[0;32m     48\u001b[0m \u001b[0mprint\u001b[0m\u001b[1;33m(\u001b[0m\u001b[1;34m\"Precision: \"\u001b[0m \u001b[1;33m+\u001b[0m \u001b[0mstr\u001b[0m\u001b[1;33m(\u001b[0m\u001b[0mev\u001b[0m\u001b[1;33m[\u001b[0m\u001b[1;36m2\u001b[0m\u001b[1;33m]\u001b[0m\u001b[1;33m)\u001b[0m\u001b[1;33m)\u001b[0m\u001b[1;33m\u001b[0m\u001b[1;33m\u001b[0m\u001b[0m\n\u001b[0;32m     49\u001b[0m \u001b[0mprint\u001b[0m\u001b[1;33m(\u001b[0m\u001b[1;34m\"Recall: \"\u001b[0m \u001b[1;33m+\u001b[0m \u001b[0mstr\u001b[0m\u001b[1;33m(\u001b[0m\u001b[0mev\u001b[0m\u001b[1;33m[\u001b[0m\u001b[1;36m3\u001b[0m\u001b[1;33m]\u001b[0m\u001b[1;33m)\u001b[0m\u001b[1;33m)\u001b[0m\u001b[1;33m\u001b[0m\u001b[1;33m\u001b[0m\u001b[0m\n",
      "\u001b[1;31mNameError\u001b[0m: name 'ev' is not defined"
     ]
    }
   ],
   "source": [
    "with open('test.csv', encoding='utf-8') as csvdatei:\n",
    "    csv_reader_object = csv.reader(csvdatei)\n",
    "    zeile = 1;\n",
    "    truepositive = 0\n",
    "    truenegative = 0\n",
    "    falsepositive = 0\n",
    "    falsenegative = 0\n",
    "    \n",
    "    alle = []\n",
    "    \n",
    "    learningcurve = []\n",
    "    \n",
    "    for row in csv_reader_object:\n",
    "        if zeile < 400000:\n",
    "            rate = 0\n",
    "            if int(row[0]) == 2:\n",
    "                rate = 1\n",
    "            elif int(row[0]) == 1:\n",
    "                rate = -1\n",
    "            rating = np.random.randint(0, 2)\n",
    "            if rating == 0:\n",
    "                rating = -1\n",
    "            else:\n",
    "                rating = 1\n",
    "            if rate == rating:\n",
    "                if rate == 1:\n",
    "                    truepositive+=1\n",
    "                    alle.append(1)\n",
    "                elif rate == -1:\n",
    "                    truenegative += 1\n",
    "                    alle.append(1)\n",
    "            else: \n",
    "                if rate == 1:\n",
    "                    falsepositive+=1\n",
    "                    alle.append(-1)\n",
    "                elif rate == -1:\n",
    "                    falsenegative += 1\n",
    "                    alle.append(-1)\n",
    "            zeile +=1\n",
    "            if zeile % 50000 == 0 and zeile != 0:\n",
    "                print(\"Zeile: \" + str(zeile-1))\n",
    "                learning = evaluate(truepositive, truenegative, falsepositive, falsenegative)\n",
    "                print(learning)\n",
    "                learningcurve.append(learning)\n",
    "\n",
    "print(\"Zufällig auswählen ob positiv oder negativ\")\n",
    "print(\"Accuracy: \" + str(ev[1]))\n",
    "print(\"Precision: \" + str(ev[2]))\n",
    "print(\"Recall: \" + str(ev[3]))\n",
    "print(\"F: \" + str(ev[0]))"
   ]
  },
  {
   "cell_type": "code",
   "execution_count": null,
   "id": "0143c2a6",
   "metadata": {},
   "outputs": [],
   "source": []
  }
 ],
 "metadata": {
  "kernelspec": {
   "display_name": "Python 3 (ipykernel)",
   "language": "python",
   "name": "python3"
  },
  "language_info": {
   "codemirror_mode": {
    "name": "ipython",
    "version": 3
   },
   "file_extension": ".py",
   "mimetype": "text/x-python",
   "name": "python",
   "nbconvert_exporter": "python",
   "pygments_lexer": "ipython3",
   "version": "3.9.13"
  }
 },
 "nbformat": 4,
 "nbformat_minor": 5
}
