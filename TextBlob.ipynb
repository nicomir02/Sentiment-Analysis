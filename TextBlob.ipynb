{
 "cells": [
  {
   "cell_type": "code",
   "execution_count": 2,
   "id": "23b34caf",
   "metadata": {},
   "outputs": [],
   "source": [
    "import csv\n",
    "import numpy as np\n",
    "from textblob import TextBlob\n",
    "import time"
   ]
  },
  {
   "cell_type": "code",
   "execution_count": 3,
   "id": "4292c39a",
   "metadata": {},
   "outputs": [],
   "source": [
    "def evaluate(truepositive, truenegative, falsepositive, falsenegative, beta=1):\n",
    "    accuracy = (truenegative + truepositive)/(truenegative + truepositive + falsenegative + falsepositive)\n",
    "    precision = truepositive/(truepositive+falsepositive)\n",
    "    recall = truepositive/(truepositive+falsenegative)\n",
    "    f = (1+beta**2) * (((precision*beta**2)*recall)/(precision+recall))\n",
    "    \n",
    "\n",
    "    return [f, accuracy, precision, recall], truepositive, truenegative, falsepositive, falsenegative"
   ]
  },
  {
   "cell_type": "code",
   "execution_count": 4,
   "id": "ede49251",
   "metadata": {},
   "outputs": [
    {
     "name": "stdout",
     "output_type": "stream",
     "text": [
      "Zeile: 50000\n",
      "([0.7588757627303797, 0.69098, 0.9582249546780168, 0.6281875726650303], 24314, 10235, 1060, 14391)\n",
      "Zeile: 100000\n",
      "([0.7570787765870002, 0.68969, 0.9560291820716107, 0.6266685674295638], 48355, 20614, 2224, 28807)\n",
      "Zeile: 150000\n",
      "([0.7560127060959009, 0.6881533333333333, 0.9569402630327999, 0.6248200229336046], 72471, 30752, 3261, 43516)\n",
      "Zeile: 200000\n",
      "([0.7549883353917936, 0.687555, 0.9573708546711083, 0.6232392542723977], 96278, 41233, 4287, 58202)\n",
      "Zeile: 250000\n",
      "([0.7538067400491031, 0.686336, 0.9573132804899444, 0.6216547910021127], 120049, 51535, 5353, 73063)\n",
      "Zeile: 300000\n",
      "([0.7531802619593555, 0.68568, 0.9573665333608373, 0.6207807113301088], 143874, 61830, 6407, 87889)\n",
      "Zeile: 350000\n",
      "([0.7529722707722408, 0.6854257142857143, 0.9574895435689382, 0.6204465117654889], 167801, 72098, 7450, 102651)\n",
      "Zeile: 400000\n",
      "([0.7522612433498621, 0.684745, 0.957275, 0.6195714082301012], 191455, 82443, 8545, 117557)\n",
      "Zufällig auswählen ob positiv oder negativ\n",
      "Accuracy: 0.684745\n",
      "Precision: 0.957275\n",
      "Recall: 0.6195714082301012\n",
      "F: 0.7522612433498621\n",
      "True positive: 191455\n",
      "True negative: 82443\n",
      "False positive: 8545\n",
      "False negative: 117557\n"
     ]
    }
   ],
   "source": [
    "start = time.time()\n",
    "with open('test.csv', encoding='utf-8') as csvdatei:\n",
    "    csv_reader_object = csv.reader(csvdatei)\n",
    "    zeile = 0;\n",
    "    truepositive = 0\n",
    "    truenegative = 0\n",
    "    falsepositive = 0\n",
    "    falsenegative = 0\n",
    "    \n",
    "    alle = []\n",
    "    \n",
    "    learningcurve = []\n",
    "    \n",
    "    for row in csv_reader_object:\n",
    "        if zeile < 400000:\n",
    "            rate = 0\n",
    "            if int(row[0]) == 2:\n",
    "                rate = 1\n",
    "            elif int(row[0]) == 1:\n",
    "                rate = -1\n",
    "            rating = TextBlob(row[1] + \" \" +row[2]).sentiment.polarity\n",
    "            if rating < 0:\n",
    "                rating = -1\n",
    "            else:\n",
    "                rating = 1\n",
    "            if rate == rating:\n",
    "                if rate == 1:\n",
    "                    truepositive+=1\n",
    "                    alle.append(1)\n",
    "                elif rate == -1:\n",
    "                    truenegative += 1\n",
    "                    alle.append(1)\n",
    "            else: \n",
    "                if rate == 1:\n",
    "                    falsepositive+=1\n",
    "                    alle.append(-1)\n",
    "                elif rate == -1:\n",
    "                    falsenegative += 1\n",
    "                    alle.append(-1)\n",
    "            zeile +=1\n",
    "            if zeile % 50000 == 0 and zeile != 0:\n",
    "                print(\"Zeile: \" + str(zeile))\n",
    "                print(evaluate(truepositive, truenegative, falsepositive, falsenegative))\n",
    "ende = time.time()\n",
    "timetrainwithcurve = '{:5.3f}s'.format(ende-start)\n",
    "\n",
    "ev = evaluate(truepositive, truenegative, falsepositive, falsenegative)\n",
    "\n",
    "print(\"Zufällig auswählen ob positiv oder negativ\")\n",
    "print(\"Accuracy: \" + str(ev[0][1]))\n",
    "print(\"Precision: \" + str(ev[0][2]))\n",
    "print(\"Recall: \" + str(ev[0][3]))\n",
    "print(\"F: \" + str(ev[0][0]))\n",
    "\n",
    "print(\"True positive: \" + str(ev[1]))\n",
    "print(\"True negative: \" + str(ev[2]))\n",
    "print(\"False positive: \" + str(ev[3]))\n",
    "print(\"False negative: \" + str(ev[4]))"
   ]
  },
  {
   "cell_type": "markdown",
   "id": "b097c85e",
   "metadata": {},
   "source": [
    "### Ergebnisse:\n",
    "\n",
    "Accuracy: 0.684745 <br>\n",
    "Precision: 0.957275<br>\n",
    "Recall: 0.6195714082301012<br>\n",
    "F: 0.7522612433498621<br>\n",
    "True positive: 191455<br>\n",
    "True negative: 82443<br>\n",
    "False positive: 8545<br>\n",
    "False negative: 117557<br>"
   ]
  },
  {
   "cell_type": "code",
   "execution_count": null,
   "id": "5b6f82d6",
   "metadata": {},
   "outputs": [],
   "source": []
  }
 ],
 "metadata": {
  "kernelspec": {
   "display_name": "Python 3 (ipykernel)",
   "language": "python",
   "name": "python3"
  },
  "language_info": {
   "codemirror_mode": {
    "name": "ipython",
    "version": 3
   },
   "file_extension": ".py",
   "mimetype": "text/x-python",
   "name": "python",
   "nbconvert_exporter": "python",
   "pygments_lexer": "ipython3",
   "version": "3.9.13"
  }
 },
 "nbformat": 4,
 "nbformat_minor": 5
}
