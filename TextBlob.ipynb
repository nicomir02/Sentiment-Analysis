{
 "cells": [
  {
   "cell_type": "markdown",
   "id": "4e2db8d5",
   "metadata": {},
   "source": [
    "Diese Datei ist zwar recht unnötig, dient aber zur Show. Es dient zur Veranschaulichung für eine Random Auswahl. "
   ]
  },
  {
   "cell_type": "code",
   "execution_count": 4,
   "id": "23b34caf",
   "metadata": {},
   "outputs": [
    {
     "data": {
      "text/plain": [
       "-0.8"
      ]
     },
     "execution_count": 4,
     "metadata": {},
     "output_type": "execute_result"
    }
   ],
   "source": [
    "import csv\n",
    "import numpy as np\n",
    "from textblob import TextBlob"
   ]
  },
  {
   "cell_type": "code",
   "execution_count": 11,
   "id": "4292c39a",
   "metadata": {},
   "outputs": [],
   "source": [
    "def evaluate(truepositive, truenegative, falsepositive, falsenegative, beta=1):\n",
    "    accuracy = (truenegative + truepositive)/(truenegative + truepositive + falsenegative + falsepositive)\n",
    "    precision = truepositive/(truepositive+falsepositive)\n",
    "    recall = truepositive/(truepositive+falsenegative)\n",
    "    f = (1+beta**2) * (((precision*beta**2)*recall)/(precision+recall))\n",
    "    \n",
    "\n",
    "    return f, accuracy, precision, recall"
   ]
  },
  {
   "cell_type": "code",
   "execution_count": null,
   "id": "ede49251",
   "metadata": {},
   "outputs": [],
   "source": [
    "with open('test.csv', encoding='utf-8') as csvdatei:\n",
    "    csv_reader_object = csv.reader(csvdatei)\n",
    "    zeile = 1;\n",
    "    truepositive = 0\n",
    "    truenegative = 0\n",
    "    falsepositive = 0\n",
    "    falsenegative = 0\n",
    "    \n",
    "    alle = []\n",
    "    \n",
    "    learningcurve = []\n",
    "    \n",
    "    for row in csv_reader_object:\n",
    "        if zeile < 400000:\n",
    "            rate = 0\n",
    "            if int(row[0]) == 2:\n",
    "                rate = 1\n",
    "            elif int(row[0]) == 1:\n",
    "                rate = -1\n",
    "            rating = TextBlob(row[1] + \" \" +row[2]).sentiment.polarity\n",
    "            if rating == 0:\n",
    "                rating = -1\n",
    "            else:\n",
    "                rating = 1\n",
    "            if rate == rating:\n",
    "                if rate == 1:\n",
    "                    truepositive+=1\n",
    "                    alle.append(1)\n",
    "                elif rate == -1:\n",
    "                    truenegative += 1\n",
    "                    alle.append(1)\n",
    "            else: \n",
    "                if rate == 1:\n",
    "                    falsepositive+=1\n",
    "                    alle.append(-1)\n",
    "                elif rate == -1:\n",
    "                    falsenegative += 1\n",
    "                    alle.append(-1)\n",
    "            zeile +=1\n",
    "            if zeile % 50000 == 0 and zeile != 0:\n",
    "                print(\"Zeile: \" + str(zeile-1))\n",
    "                learning = evaluate(truepositive, truenegative, falsepositive, falsenegative)\n",
    "                print(learning)\n",
    "                learningcurve.append(learning)\n",
    "                \n",
    "ev = evaluate(truepositive, truenegative, falsepositive, falsenegative)\n",
    "print(\"Zufällig auswählen ob positiv oder negativ\")\n",
    "print(\"Accuracy: \" + str(ev[1]))\n",
    "print(\"Precision: \" + str(ev[2]))\n",
    "print(\"Recall: \" + str(ev[3]))\n",
    "print(\"F: \" + str(ev[0]))"
   ]
  },
  {
   "cell_type": "code",
   "execution_count": null,
   "id": "0143c2a6",
   "metadata": {},
   "outputs": [],
   "source": []
  }
 ],
 "metadata": {
  "kernelspec": {
   "display_name": "Python 3 (ipykernel)",
   "language": "python",
   "name": "python3"
  },
  "language_info": {
   "codemirror_mode": {
    "name": "ipython",
    "version": 3
   },
   "file_extension": ".py",
   "mimetype": "text/x-python",
   "name": "python",
   "nbconvert_exporter": "python",
   "pygments_lexer": "ipython3",
   "version": "3.9.13"
  }
 },
 "nbformat": 4,
 "nbformat_minor": 5
}
